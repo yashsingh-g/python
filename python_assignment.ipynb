{
  "nbformat": 4,
  "nbformat_minor": 0,
  "metadata": {
    "colab": {
      "provenance": []
    },
    "kernelspec": {
      "name": "python3",
      "display_name": "Python 3"
    },
    "language_info": {
      "name": "python"
    }
  },
  "cells": [
    {
      "cell_type": "code",
      "execution_count": null,
      "metadata": {
        "colab": {
          "base_uri": "https://localhost:8080/"
        },
        "id": "zwoP1FnFVd1t",
        "outputId": "87167afb-705d-4d72-9d5a-aec401e58418"
      },
      "outputs": [
        {
          "output_type": "stream",
          "name": "stdout",
          "text": [
            "Just Pass\n",
            "Second Class\n",
            "Fail\n",
            "Fail\n",
            "Second Class\n",
            "Distinction\n",
            "Distinction\n",
            "Distinction\n",
            "First Class\n",
            "Distinction\n"
          ]
        }
      ],
      "source": [
        "#1\n",
        "Scores = [35, 50, 20, 30, 55, 75, 90, 95, 66, 80]\n",
        "\n",
        "for score in Scores:\n",
        "    if score > 70:\n",
        "        print(\"Distinction\")\n",
        "    elif 60 <= score <= 70:\n",
        "        print(\"First Class\")\n",
        "    elif 50 <= score < 60:\n",
        "        print(\"Second Class\")\n",
        "    elif 35 <= score < 50:\n",
        "        print(\"Just Pass\")\n",
        "    else:\n",
        "        print(\"Fail\")\n"
      ]
    },
    {
      "cell_type": "code",
      "source": [
        "#2\n",
        "x = {'Python': 600, 'Java': 400, 'Web_Tech': 550, 'OS': 450, 'IT': 700}\n",
        "\n",
        "for book, price in x.items():\n",
        "    if price > 500:\n",
        "        print(f'Book: {book}, Price: {price}')\n"
      ],
      "metadata": {
        "colab": {
          "base_uri": "https://localhost:8080/"
        },
        "id": "YH6Tb9iQV1QN",
        "outputId": "f0ea5fa5-bdd5-49c0-b18c-a6eb40dc41fd"
      },
      "execution_count": 31,
      "outputs": [
        {
          "output_type": "stream",
          "name": "stdout",
          "text": [
            "Book: Python, Price: 600\n",
            "Book: Web_Tech, Price: 550\n",
            "Book: IT, Price: 700\n"
          ]
        }
      ]
    },
    {
      "cell_type": "code",
      "source": [
        "#3\n",
        "list0 = [1, 2, 3, 4, 5, 6, 7]\n",
        "[x**2 for x in list0]\n",
        "\n"
      ],
      "metadata": {
        "colab": {
          "base_uri": "https://localhost:8080/"
        },
        "id": "hf1f7m03WFlh",
        "outputId": "57abe392-3f40-4c48-e73d-b413494da744"
      },
      "execution_count": 30,
      "outputs": [
        {
          "output_type": "execute_result",
          "data": {
            "text/plain": [
              "[1, 4, 9, 16, 25, 36, 49]"
            ]
          },
          "metadata": {},
          "execution_count": 30
        }
      ]
    },
    {
      "cell_type": "code",
      "source": [
        "#4\n",
        "list1 = [\"Hello \", \"take \"]\n",
        "list2 = [\"Dear\", \"Sir\"]\n",
        "print(list1[0] + list2[0])\n",
        "print(list1[1] + list2[0])\n",
        "print(list1[0] + list2[1])\n",
        "print(list1[1] + list2[1])\n",
        "\n",
        "\n"
      ],
      "metadata": {
        "colab": {
          "base_uri": "https://localhost:8080/"
        },
        "id": "7sHc5ldAWXbG",
        "outputId": "3afc40bb-cf25-4ef1-9309-d55cfe9b07af"
      },
      "execution_count": 13,
      "outputs": [
        {
          "output_type": "stream",
          "name": "stdout",
          "text": [
            "Hello Dear\n",
            "take Dear\n",
            "Hello Sir\n",
            "take Sir\n"
          ]
        }
      ]
    },
    {
      "cell_type": "code",
      "source": [
        "#5\n",
        "list1 = [100, 200, 300, 400, 500]\n",
        "list1.reverse()\n",
        "list1\n"
      ],
      "metadata": {
        "id": "PFv0VcQvWwCX",
        "colab": {
          "base_uri": "https://localhost:8080/"
        },
        "outputId": "d4679fb8-472b-4aa2-e4d4-a7788f4501fd"
      },
      "execution_count": 29,
      "outputs": [
        {
          "output_type": "execute_result",
          "data": {
            "text/plain": [
              "[500, 400, 300, 200, 100]"
            ]
          },
          "metadata": {},
          "execution_count": 29
        }
      ]
    },
    {
      "cell_type": "code",
      "source": [
        "#6\n",
        "list1 = [10, 20, [300, 400, [5000, 6000], 500], 30, 40]\n",
        "x = 7000\n",
        "\n",
        "\n",
        "list1[2][2].append(x)\n",
        "\n",
        "print(list1)\n"
      ],
      "metadata": {
        "colab": {
          "base_uri": "https://localhost:8080/"
        },
        "id": "Maa9QPcuZLGd",
        "outputId": "5c840049-26d8-4156-8132-9d8cefc4e096"
      },
      "execution_count": 27,
      "outputs": [
        {
          "output_type": "stream",
          "name": "stdout",
          "text": [
            "[10, 20, [300, 400, [5000, 6000, 7000], 500], 30, 40]\n"
          ]
        }
      ]
    },
    {
      "cell_type": "code",
      "source": [
        "#7\n",
        "list1 = [\"a\", \"b\", [\"c\", [\"d\", \"e\", [\"f\", \"g\"], \"k\"], \"l\"], \"m\", \"n\"]\n",
        "sub_list = [\"h\", \"i\", \"j\"]\n",
        "\n",
        "\n",
        "list1[2][1][2].extend(sub_list)\n",
        "\n",
        "print(list1)\n"
      ],
      "metadata": {
        "colab": {
          "base_uri": "https://localhost:8080/"
        },
        "id": "tmaIZL72ZaFQ",
        "outputId": "85ce7816-c7c5-44bd-8696-32040b35461f"
      },
      "execution_count": 26,
      "outputs": [
        {
          "output_type": "stream",
          "name": "stdout",
          "text": [
            "['a', 'b', ['c', ['d', 'e', ['f', 'g', 'h', 'i', 'j'], 'k'], 'l'], 'm', 'n']\n"
          ]
        }
      ]
    },
    {
      "cell_type": "code",
      "source": [
        "#8\n",
        "list1 = [5, 10, 15, 20, 25, 50, 20]\n",
        "list1.remove(20)\n",
        "list1.insert(3,200)\n",
        "list1\n"
      ],
      "metadata": {
        "colab": {
          "base_uri": "https://localhost:8080/"
        },
        "id": "et1MH1t_ZmWo",
        "outputId": "c77c2238-a38a-45e8-a717-478bfbc66255"
      },
      "execution_count": 25,
      "outputs": [
        {
          "output_type": "execute_result",
          "data": {
            "text/plain": [
              "[5, 10, 15, 200, 25, 50, 20]"
            ]
          },
          "metadata": {},
          "execution_count": 25
        }
      ]
    },
    {
      "cell_type": "code",
      "source": [
        "#9\n",
        "Player_game = {'Sachin': 'Cricket', 'Rahul': 'Cricket', 'Messi': 'Football', 'Federer': 'Tennis', 'Anand': 'Chess'}\n",
        "\n",
        "for player, game in Player_game.items():\n",
        "    if game == 'Cricket':\n",
        "        print(player)\n"
      ],
      "metadata": {
        "colab": {
          "base_uri": "https://localhost:8080/"
        },
        "id": "3D27wAhTZw3c",
        "outputId": "ce563259-3417-44ab-b537-cdb62a16ba1a"
      },
      "execution_count": 18,
      "outputs": [
        {
          "output_type": "stream",
          "name": "stdout",
          "text": [
            "Sachin\n",
            "Rahul\n"
          ]
        }
      ]
    },
    {
      "cell_type": "code",
      "source": [
        "#10\n",
        "list1 = [1, 2, 4, 5, 10, 20, 4, 5]\n",
        "\n",
        "sum(list1)\n"
      ],
      "metadata": {
        "colab": {
          "base_uri": "https://localhost:8080/"
        },
        "id": "ji68-FvBaAvd",
        "outputId": "da8d86d9-c58d-4302-e7c4-44510784fbad"
      },
      "execution_count": 20,
      "outputs": [
        {
          "output_type": "execute_result",
          "data": {
            "text/plain": [
              "51"
            ]
          },
          "metadata": {},
          "execution_count": 20
        }
      ]
    },
    {
      "cell_type": "code",
      "source": [],
      "metadata": {
        "id": "YPJQY2fKaJCt"
      },
      "execution_count": null,
      "outputs": []
    }
  ]
}