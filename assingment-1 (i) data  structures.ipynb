{
  "nbformat": 4,
  "nbformat_minor": 0,
  "metadata": {
    "colab": {
      "provenance": []
    },
    "kernelspec": {
      "name": "python3",
      "display_name": "Python 3"
    },
    "language_info": {
      "name": "python"
    }
  },
  "cells": [
    {
      "cell_type": "code",
      "execution_count": null,
      "metadata": {
        "id": "zH2MBCJ7D063"
      },
      "outputs": [],
      "source": []
    },
    {
      "cell_type": "markdown",
      "metadata": {
        "id": "iTLiPCI5BwQ5"
      },
      "source": [
        "# Objects and Data Structures Assessment Test"
      ]
    },
    {
      "cell_type": "markdown",
      "metadata": {
        "collapsed": true,
        "id": "0sDLONXEBwQ-"
      },
      "source": [
        "## Test your knowledge.\n",
        "\n",
        "** Answer the following questions **"
      ]
    },
    {
      "cell_type": "markdown",
      "metadata": {
        "collapsed": true,
        "id": "kIPPYFhNBwQ-"
      },
      "source": [
        "Write a brief description of all the following Object Types and Data Structures we've learned about:"
      ]
    },
    {
      "cell_type": "markdown",
      "metadata": {
        "id": "7Xy6zsngBwQ_"
      },
      "source": [
        "Numbers:\n",
        "\n",
        "Strings:\n",
        "\n",
        "Lists:\n",
        "\n",
        "Tuples:\n",
        "\n",
        "Dictionaries:\n"
      ]
    },
    {
      "cell_type": "code",
      "source": [
        "#Numbers=There are three numeric types in Python: int,float,complex."
      ],
      "metadata": {
        "id": "lbmLIjhJlaGH"
      },
      "execution_count": null,
      "outputs": []
    },
    {
      "cell_type": "code",
      "source": [
        "#Strings=a collection of alphabets, words or other characters"
      ],
      "metadata": {
        "id": "qmresli9laO1"
      },
      "execution_count": null,
      "outputs": []
    },
    {
      "cell_type": "code",
      "source": [
        "#Lists=an ordered and changeable collection of data objects"
      ],
      "metadata": {
        "id": "XRgCcZUnlaX9"
      },
      "execution_count": null,
      "outputs": []
    },
    {
      "cell_type": "code",
      "source": [
        "#Tuples= an immutable object, which means it cannot be changed, and we use it to represent fixed collections of items."
      ],
      "metadata": {
        "id": "WhMBEWJQlamd"
      },
      "execution_count": null,
      "outputs": []
    },
    {
      "cell_type": "code",
      "source": [
        "#Dictionaries=mutable data structures that allow you to store key-value pairs."
      ],
      "metadata": {
        "id": "BDLHc97DlatH"
      },
      "execution_count": null,
      "outputs": []
    },
    {
      "cell_type": "markdown",
      "metadata": {
        "id": "tM6rpDhxBwQ_"
      },
      "source": [
        "## Numbers\n",
        "\n",
        "Write an equation that uses multiplication, division, an exponent, addition, and subtraction that is equal to 100.25.\n",
        "\n",
        "Hint: This is just to test your memory of the basic arithmetic commands, work backwards from 100.25"
      ]
    },
    {
      "cell_type": "code",
      "execution_count": null,
      "metadata": {
        "id": "_g0Mtc2RBwQ_",
        "colab": {
          "base_uri": "https://localhost:8080/"
        },
        "outputId": "5d1c3955-dabc-4145-8be5-ed6c2a84eb95"
      },
      "outputs": [
        {
          "output_type": "execute_result",
          "data": {
            "text/plain": [
              "100.25"
            ]
          },
          "metadata": {},
          "execution_count": 7
        }
      ],
      "source": [
        "((5**2)*4/4+76-0.75)"
      ]
    },
    {
      "cell_type": "markdown",
      "metadata": {
        "id": "HEZel44PBwRA"
      },
      "source": [
        "Answer these 3 questions without typing code. Then type code to check your answer.\n",
        "\n",
        "    What is the value of the expression 4 * (6 + 5)\n",
        "    \n",
        "    What is the value of the expression 4 * 6 + 5\n",
        "    \n",
        "    What is the value of the expression 4 + 6 * 5"
      ]
    },
    {
      "cell_type": "code",
      "execution_count": null,
      "metadata": {
        "id": "LcEWca2pBwRA",
        "colab": {
          "base_uri": "https://localhost:8080/"
        },
        "outputId": "3ce00d50-2970-4a49-9e68-11e898e76626"
      },
      "outputs": [
        {
          "output_type": "execute_result",
          "data": {
            "text/plain": [
              "44"
            ]
          },
          "metadata": {},
          "execution_count": 8
        }
      ],
      "source": [
        "4*(6+5)"
      ]
    },
    {
      "cell_type": "code",
      "source": [
        "4*6+5"
      ],
      "metadata": {
        "colab": {
          "base_uri": "https://localhost:8080/"
        },
        "id": "wdcwzIYHF8rH",
        "outputId": "e59344e3-3055-4955-c22c-b0ae19bbdad4"
      },
      "execution_count": null,
      "outputs": [
        {
          "output_type": "execute_result",
          "data": {
            "text/plain": [
              "29"
            ]
          },
          "metadata": {},
          "execution_count": 9
        }
      ]
    },
    {
      "cell_type": "code",
      "source": [
        "4+6*5"
      ],
      "metadata": {
        "colab": {
          "base_uri": "https://localhost:8080/"
        },
        "id": "ylMpkOuXGCdj",
        "outputId": "7094fd23-41e0-4dfd-f8f7-a313f05ea9b6"
      },
      "execution_count": null,
      "outputs": [
        {
          "output_type": "execute_result",
          "data": {
            "text/plain": [
              "34"
            ]
          },
          "metadata": {},
          "execution_count": 10
        }
      ]
    },
    {
      "cell_type": "markdown",
      "metadata": {
        "id": "oRh5gOkSBwRA"
      },
      "source": [
        "What is the *type* of the result of the expression 3 + 1.5 + 4?<br><br>"
      ]
    },
    {
      "cell_type": "code",
      "source": [
        "3+1.5+4"
      ],
      "metadata": {
        "colab": {
          "base_uri": "https://localhost:8080/"
        },
        "id": "IpWsJ8vnGVvl",
        "outputId": "1d8c4ab1-bbfb-4fcd-8884-2dce01234919"
      },
      "execution_count": null,
      "outputs": [
        {
          "output_type": "execute_result",
          "data": {
            "text/plain": [
              "8.5"
            ]
          },
          "metadata": {},
          "execution_count": 11
        }
      ]
    },
    {
      "cell_type": "markdown",
      "metadata": {
        "id": "fQ5nZ2WgBwRB"
      },
      "source": [
        "What would you use to find a number’s square root, as well as its square?"
      ]
    },
    {
      "cell_type": "code",
      "execution_count": null,
      "metadata": {
        "id": "beyEjLwmBwRB"
      },
      "outputs": [],
      "source": [
        "# Square root:\n",
        "math.sqrt()"
      ]
    },
    {
      "cell_type": "code",
      "execution_count": null,
      "metadata": {
        "id": "eDd7bSi7BwRC"
      },
      "outputs": [],
      "source": [
        "# Square:\n",
        "pow(a,b)"
      ]
    },
    {
      "cell_type": "markdown",
      "metadata": {
        "id": "YRgiwadOBwRC"
      },
      "source": [
        "## Strings"
      ]
    },
    {
      "cell_type": "markdown",
      "metadata": {
        "id": "AZD75gIbBwRC"
      },
      "source": [
        "Given the string 'hello' give an index command that returns 'e'. Enter your code in the cell below:"
      ]
    },
    {
      "cell_type": "code",
      "execution_count": null,
      "metadata": {
        "id": "hdc_wbcHBwRC",
        "colab": {
          "base_uri": "https://localhost:8080/",
          "height": 35
        },
        "outputId": "41541527-14a1-4637-93fb-41add509b401"
      },
      "outputs": [
        {
          "output_type": "execute_result",
          "data": {
            "text/plain": [
              "'e'"
            ],
            "application/vnd.google.colaboratory.intrinsic+json": {
              "type": "string"
            }
          },
          "metadata": {},
          "execution_count": 12
        }
      ],
      "source": [
        "s = 'hello'\n",
        "# Print out 'e' using indexing\n",
        "s[1::4]"
      ]
    },
    {
      "cell_type": "markdown",
      "metadata": {
        "id": "S98zeyMKBwRC"
      },
      "source": [
        "Reverse the string 'hello' using slicing:"
      ]
    },
    {
      "cell_type": "code",
      "execution_count": null,
      "metadata": {
        "id": "af2b3zIQBwRC",
        "colab": {
          "base_uri": "https://localhost:8080/",
          "height": 35
        },
        "outputId": "3ea9349f-aa3d-4398-9883-d71c4618199a"
      },
      "outputs": [
        {
          "output_type": "execute_result",
          "data": {
            "text/plain": [
              "'olleh'"
            ],
            "application/vnd.google.colaboratory.intrinsic+json": {
              "type": "string"
            }
          },
          "metadata": {},
          "execution_count": 18
        }
      ],
      "source": [
        "s ='hello'\n",
        "# Reverse the string using slicing\n",
        "\n",
        "s[::-1]"
      ]
    },
    {
      "cell_type": "markdown",
      "metadata": {
        "id": "By6TyExUBwRC"
      },
      "source": [
        "Given the string hello, give two methods of producing the letter 'o' using indexing."
      ]
    },
    {
      "cell_type": "code",
      "execution_count": null,
      "metadata": {
        "id": "GHFHT-HgBwRD",
        "colab": {
          "base_uri": "https://localhost:8080/",
          "height": 35
        },
        "outputId": "1c70885e-b411-41b4-e1a3-b97b69e82f29"
      },
      "outputs": [
        {
          "output_type": "execute_result",
          "data": {
            "text/plain": [
              "'o'"
            ],
            "application/vnd.google.colaboratory.intrinsic+json": {
              "type": "string"
            }
          },
          "metadata": {},
          "execution_count": 21
        }
      ],
      "source": [
        "s ='hello'\n",
        "# Print out the 'o'\n",
        "\n",
        "# Method 1:\n",
        "\n",
        "s[-1::-5]"
      ]
    },
    {
      "cell_type": "code",
      "execution_count": null,
      "metadata": {
        "id": "8gBiEsOEBwRD",
        "colab": {
          "base_uri": "https://localhost:8080/",
          "height": 35
        },
        "outputId": "05a57509-e69b-4e5c-b0bc-b4d9eda1384b"
      },
      "outputs": [
        {
          "output_type": "execute_result",
          "data": {
            "text/plain": [
              "'o'"
            ],
            "application/vnd.google.colaboratory.intrinsic+json": {
              "type": "string"
            }
          },
          "metadata": {},
          "execution_count": 24
        }
      ],
      "source": [
        "# Method 2:\n",
        "s[4::1]\n"
      ]
    },
    {
      "cell_type": "markdown",
      "metadata": {
        "id": "a0GeY6f1BwRD"
      },
      "source": [
        "## Lists"
      ]
    },
    {
      "cell_type": "markdown",
      "metadata": {
        "id": "DKAs4uImBwRD"
      },
      "source": [
        "Build this list [0,0,0] two separate ways."
      ]
    },
    {
      "cell_type": "code",
      "execution_count": null,
      "metadata": {
        "id": "uTT4-cErBwRD",
        "colab": {
          "base_uri": "https://localhost:8080/"
        },
        "outputId": "7efd6cbc-43b2-40c2-c59c-5288584dbc00"
      },
      "outputs": [
        {
          "output_type": "execute_result",
          "data": {
            "text/plain": [
              "[0, 0, 0]"
            ]
          },
          "metadata": {},
          "execution_count": 25
        }
      ],
      "source": [
        "# Method 1:\n",
        "list=[0,0,0]\n",
        "list"
      ]
    },
    {
      "cell_type": "code",
      "execution_count": null,
      "metadata": {
        "id": "7qUDmcbeBwRD",
        "colab": {
          "base_uri": "https://localhost:8080/"
        },
        "outputId": "5f166c63-e0db-4279-d283-5e1be5ad69b5"
      },
      "outputs": [
        {
          "output_type": "stream",
          "name": "stdout",
          "text": [
            "[0, 0, 0]\n"
          ]
        }
      ],
      "source": [
        "# Method 2:\n",
        "list=[0,0,0]\n",
        "print (list)"
      ]
    },
    {
      "cell_type": "markdown",
      "metadata": {
        "id": "g59G8F-sBwRD"
      },
      "source": [
        "Reassign 'hello' in this nested list to say 'goodbye' instead:"
      ]
    },
    {
      "cell_type": "code",
      "execution_count": null,
      "metadata": {
        "id": "HidLmgsOBwRD",
        "colab": {
          "base_uri": "https://localhost:8080/"
        },
        "outputId": "bf7a8908-9fa1-4481-bce9-a40588b75a7a"
      },
      "outputs": [
        {
          "output_type": "stream",
          "name": "stdout",
          "text": [
            "[1, 2, [3, 4, 'goodbye']]\n"
          ]
        }
      ],
      "source": [
        "list3 = [1,2,[3,4,'hello']]\n",
        "list3[2][2] = 'goodbye'\n",
        "print(list3)"
      ]
    },
    {
      "cell_type": "markdown",
      "metadata": {
        "id": "VBWiPaptBwRD"
      },
      "source": [
        "Sort the list below:"
      ]
    },
    {
      "cell_type": "code",
      "execution_count": null,
      "metadata": {
        "id": "aLq7bwiLBwRD",
        "colab": {
          "base_uri": "https://localhost:8080/"
        },
        "outputId": "8f262f8f-2a74-46c2-ed8a-1e1db116b6c3"
      },
      "outputs": [
        {
          "output_type": "stream",
          "name": "stdout",
          "text": [
            "[5, 3, 4, 6, 1]\n",
            "[1, 3, 4, 5, 6]\n",
            "[1, 3, 4, 5, 6]\n",
            "[5, 3, 4, 6, 1]\n"
          ]
        }
      ],
      "source": [
        "list4 = [5,3,4,6,1]\n",
        "\n",
        "print(list4)\n",
        "list4.sort()\n",
        "print(list4)\n",
        "list4 = [5,3,4,6,1]\n",
        "print (sorted(list4))\n",
        "print (list4)"
      ]
    },
    {
      "cell_type": "markdown",
      "metadata": {
        "id": "ZwOSdhANBwRE"
      },
      "source": [
        "## Dictionaries"
      ]
    },
    {
      "cell_type": "markdown",
      "metadata": {
        "id": "uL7pJdVnBwRE"
      },
      "source": [
        "Using keys and indexing, grab the 'hello' from the following dictionaries:"
      ]
    },
    {
      "cell_type": "code",
      "execution_count": null,
      "metadata": {
        "id": "YeSUO8DvBwRE",
        "colab": {
          "base_uri": "https://localhost:8080/"
        },
        "outputId": "9247476a-eff9-46a1-9e89-66a9f2106a5a"
      },
      "outputs": [
        {
          "output_type": "stream",
          "name": "stdout",
          "text": [
            "hello\n"
          ]
        }
      ],
      "source": [
        "d = {'simple_key':'hello'}\n",
        "# Grab 'hello'\n",
        "print (d['simple_key'])"
      ]
    },
    {
      "cell_type": "code",
      "execution_count": null,
      "metadata": {
        "id": "oWF8sePqBwRE"
      },
      "outputs": [],
      "source": [
        "d = {'k1':{'k2':'hello'}}\n",
        "# Grab 'hello'\n",
        "print (d['k1']['k2'])"
      ]
    },
    {
      "cell_type": "code",
      "execution_count": null,
      "metadata": {
        "id": "zDvGTL1DBwRE",
        "colab": {
          "base_uri": "https://localhost:8080/"
        },
        "outputId": "c586c0d4-592d-417b-bae0-16c11d10e301"
      },
      "outputs": [
        {
          "output_type": "stream",
          "name": "stdout",
          "text": [
            "hello\n"
          ]
        }
      ],
      "source": [
        "# Getting a little tricker\n",
        "d = {'k1':[{'nest_key':['this is deep',['hello']]}]}\n",
        "\n",
        "#Grab hello\n",
        "print (d['k1'][0]['nest_key'][1][0])"
      ]
    },
    {
      "cell_type": "code",
      "execution_count": null,
      "metadata": {
        "id": "uQhRX5pMBwRE",
        "colab": {
          "base_uri": "https://localhost:8080/"
        },
        "outputId": "51ef3918-aace-4b40-fd24-92a06436513b"
      },
      "outputs": [
        {
          "output_type": "stream",
          "name": "stdout",
          "text": [
            "hello\n"
          ]
        }
      ],
      "source": [
        "# This will be hard and annoying!\n",
        "d = {'k1':[1,2,{'k2':['this is tricky',{'tough':[1,2,['hello']]}]}]}\n",
        "print (d['k1'][2]['k2'][1]['tough'][2][0])\n"
      ]
    },
    {
      "cell_type": "markdown",
      "metadata": {
        "id": "4XXcoE-SBwRE"
      },
      "source": [
        "Can you sort a dictionary? Why or why not?<br><br>\n",
        "\n"
      ]
    },
    {
      "cell_type": "code",
      "source": [
        "#To sort a dictionary by value in Python you can use the sorted() function.\n",
        "#Python's sorted() function can be used to sort dictionaries by key, which allows for a custom sorting method.\n",
        "#sorted() takes three arguments: object, key, and reverse. Dictionaries are unordered data structures."
      ],
      "metadata": {
        "id": "YLi5bp6NzbXK"
      },
      "execution_count": null,
      "outputs": []
    },
    {
      "cell_type": "markdown",
      "metadata": {
        "id": "_MmzoNaTBwRE"
      },
      "source": [
        "## Tuples"
      ]
    },
    {
      "cell_type": "markdown",
      "metadata": {
        "id": "bLGxnpsqBwRE"
      },
      "source": [
        "What is the major difference between tuples and lists?<br><br>"
      ]
    },
    {
      "cell_type": "code",
      "source": [
        "#tuple has fixed value but can not modify like append,insert,clear in way list can perform it"
      ],
      "metadata": {
        "id": "LBw_8q4Lzj0g"
      },
      "execution_count": null,
      "outputs": []
    },
    {
      "cell_type": "markdown",
      "metadata": {
        "id": "UlV2OfS5BwRE"
      },
      "source": [
        "How do you create a tuple?<br><br>"
      ]
    },
    {
      "cell_type": "code",
      "source": [
        "#we can create tuple by putting curved brackets"
      ],
      "metadata": {
        "id": "cMhYQ-rczjCp"
      },
      "execution_count": null,
      "outputs": []
    },
    {
      "cell_type": "markdown",
      "metadata": {
        "id": "NjiKpAkrBwRE"
      },
      "source": [
        "## Sets"
      ]
    },
    {
      "cell_type": "markdown",
      "metadata": {
        "id": "ytBozTBrBwRF"
      },
      "source": [
        "What is unique about a set?<br><br>"
      ]
    },
    {
      "cell_type": "code",
      "source": [
        "#set gives unique value and don't print duplicate value"
      ],
      "metadata": {
        "id": "7lcBFUvazthS"
      },
      "execution_count": null,
      "outputs": []
    },
    {
      "cell_type": "markdown",
      "metadata": {
        "id": "2OMyPELVBwRF"
      },
      "source": [
        "Use a set to find the unique values of the list below:"
      ]
    },
    {
      "cell_type": "code",
      "execution_count": null,
      "metadata": {
        "id": "QunoflaSBwRF",
        "colab": {
          "base_uri": "https://localhost:8080/"
        },
        "outputId": "f50c0f6d-b766-4646-bcf6-fdf5dad061bb"
      },
      "outputs": [
        {
          "output_type": "execute_result",
          "data": {
            "text/plain": [
              "{1, 2, 3, 4, 11, 22, 33}"
            ]
          },
          "metadata": {},
          "execution_count": 7
        }
      ],
      "source": [
        "list5 = [1,2,2,33,4,4,11,22,3,3,2]\n",
        "\n",
        "set(list5)\n"
      ]
    },
    {
      "cell_type": "markdown",
      "metadata": {
        "id": "RNci4wKTBwRF"
      },
      "source": [
        "## Booleans"
      ]
    },
    {
      "cell_type": "markdown",
      "metadata": {
        "id": "W4sCilOsBwRF"
      },
      "source": [
        "For the following quiz questions, we will get a preview of comparison operators. In the table below, a=3 and b=4.\n",
        "\n",
        "<table class=\"table table-bordered\">\n",
        "<tr>\n",
        "<th style=\"width:10%\">Operator</th><th style=\"width:45%\">Description</th><th>Example</th>\n",
        "</tr>\n",
        "<tr>\n",
        "<td>==</td>\n",
        "<td>If the values of two operands are equal, then the condition becomes true.</td>\n",
        "<td> (a == b) is not true.</td>\n",
        "</tr>\n",
        "<tr>\n",
        "<td>!=</td>\n",
        "<td>If values of two operands are not equal, then condition becomes true.</td>\n",
        "<td> (a != b) is true.</td>\n",
        "</tr>\n",
        "<tr>\n",
        "<td>&gt;</td>\n",
        "<td>If the value of left operand is greater than the value of right operand, then condition becomes true.</td>\n",
        "<td> (a &gt; b) is not true.</td>\n",
        "</tr>\n",
        "<tr>\n",
        "<td>&lt;</td>\n",
        "<td>If the value of left operand is less than the value of right operand, then condition becomes true.</td>\n",
        "<td> (a &lt; b) is true.</td>\n",
        "</tr>\n",
        "<tr>\n",
        "<td>&gt;=</td>\n",
        "<td>If the value of left operand is greater than or equal to the value of right operand, then condition becomes true.</td>\n",
        "<td> (a &gt;= b) is not true. </td>\n",
        "</tr>\n",
        "<tr>\n",
        "<td>&lt;=</td>\n",
        "<td>If the value of left operand is less than or equal to the value of right operand, then condition becomes true.</td>\n",
        "<td> (a &lt;= b) is true. </td>\n",
        "</tr>\n",
        "</table>"
      ]
    },
    {
      "cell_type": "markdown",
      "metadata": {
        "id": "9pRjqRbOBwRF"
      },
      "source": [
        "What will be the resulting Boolean of the following pieces of code (answer fist then check by typing it in!)"
      ]
    },
    {
      "cell_type": "code",
      "execution_count": null,
      "metadata": {
        "id": "lKu_G8H2BwRG"
      },
      "outputs": [],
      "source": [
        "# Answer before running cell\n",
        "2 > 3\n",
        "#false"
      ]
    },
    {
      "cell_type": "code",
      "execution_count": 1,
      "metadata": {
        "id": "GyveaqPEBwRG",
        "colab": {
          "base_uri": "https://localhost:8080/"
        },
        "outputId": "98aaeb0e-4034-4781-fdb7-29cf9224e476"
      },
      "outputs": [
        {
          "output_type": "execute_result",
          "data": {
            "text/plain": [
              "False"
            ]
          },
          "metadata": {},
          "execution_count": 1
        }
      ],
      "source": [
        "# Answer before running cell\n",
        "3 <= 2\n",
        "#false"
      ]
    },
    {
      "cell_type": "code",
      "execution_count": 2,
      "metadata": {
        "id": "yF67BAiHBwRG",
        "colab": {
          "base_uri": "https://localhost:8080/"
        },
        "outputId": "f9eb6473-2cc3-46b0-d26c-ff9118d95d5e"
      },
      "outputs": [
        {
          "output_type": "execute_result",
          "data": {
            "text/plain": [
              "False"
            ]
          },
          "metadata": {},
          "execution_count": 2
        }
      ],
      "source": [
        "# Answer before running cell\n",
        "3 == 2.0\n",
        "#false"
      ]
    },
    {
      "cell_type": "code",
      "execution_count": 3,
      "metadata": {
        "id": "Oj7SyOxTBwRG",
        "colab": {
          "base_uri": "https://localhost:8080/"
        },
        "outputId": "448bcfa0-1307-4137-8e0a-3f8e79b0db02"
      },
      "outputs": [
        {
          "output_type": "execute_result",
          "data": {
            "text/plain": [
              "True"
            ]
          },
          "metadata": {},
          "execution_count": 3
        }
      ],
      "source": [
        "# Answer before running cell\n",
        "3.0 == 3\n",
        "#true"
      ]
    },
    {
      "cell_type": "code",
      "execution_count": 4,
      "metadata": {
        "id": "UL7W5Pv-BwRG",
        "colab": {
          "base_uri": "https://localhost:8080/"
        },
        "outputId": "d46a6a1e-f483-46da-9f19-1c4ad9a641b7"
      },
      "outputs": [
        {
          "output_type": "execute_result",
          "data": {
            "text/plain": [
              "False"
            ]
          },
          "metadata": {},
          "execution_count": 4
        }
      ],
      "source": [
        "# Answer before running cell\n",
        "4**0.5 != 2\n",
        "#false"
      ]
    },
    {
      "cell_type": "markdown",
      "metadata": {
        "id": "kYEk7V5oBwRG"
      },
      "source": [
        "Final Question: What is the boolean output of the cell block below?"
      ]
    },
    {
      "cell_type": "code",
      "execution_count": 5,
      "metadata": {
        "id": "pzr6w2-fBwRG",
        "colab": {
          "base_uri": "https://localhost:8080/"
        },
        "outputId": "35eeb6a9-cb81-4905-a050-bf3ad6579f5e"
      },
      "outputs": [
        {
          "output_type": "execute_result",
          "data": {
            "text/plain": [
              "False"
            ]
          },
          "metadata": {},
          "execution_count": 5
        }
      ],
      "source": [
        "# two nested lists\n",
        "l_one = [1,2,[3,4]]\n",
        "l_two = [1,2,{'k1':4}]\n",
        "\n",
        "# True or False?\n",
        "l_one[2][0] >= l_two[2]['k1']\n",
        "#       3,4  >= 4\n",
        "#        false\n"
      ]
    },
    {
      "cell_type": "markdown",
      "metadata": {
        "id": "rr97_nOEBwRG"
      },
      "source": [
        "## Great Job on your first assessment!"
      ]
    }
  ]
}