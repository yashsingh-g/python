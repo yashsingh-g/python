{
 "cells": [
  {
   "cell_type": "code",
   "execution_count": 7,
   "id": "9a801c16",
   "metadata": {},
   "outputs": [
    {
     "data": {
      "text/plain": [
       "[500, 400, 300, 200, 100]"
      ]
     },
     "execution_count": 7,
     "metadata": {},
     "output_type": "execute_result"
    }
   ],
   "source": [
    "#1: Given a Python list you should be able to display Python list in the following order\n",
    "list1 = [100, 200, 300, 400, 500]\n",
    "list1[::-1]"
   ]
  },
  {
   "cell_type": "code",
   "execution_count": 11,
   "id": "59c3cc9f",
   "metadata": {},
   "outputs": [
    {
     "name": "stdout",
     "output_type": "stream",
     "text": [
      "My name is Kelly\n"
     ]
    }
   ],
   "source": [
    "#2: Concatenate two lists index-wise\n",
    "list1 = [\"M\", \"na\", \"i\", \"Ke\"] \n",
    "list2 = [\"y\", \"me\", \"s\", \"lly\"]\n",
    "print(list1[0] + list2[0],list1[1] + list2[1],list1[2] + list2[2],list1[3] + list2[3])"
   ]
  },
  {
   "cell_type": "code",
   "execution_count": 24,
   "id": "d82e8cd2",
   "metadata": {},
   "outputs": [
    {
     "name": "stdout",
     "output_type": "stream",
     "text": [
      "[1, 4, 9, 16, 25, 36, 49]\n"
     ]
    }
   ],
   "source": [
    "#3: Given a Python list. Turn every item of a list into its square\n",
    "list1 = [1, 2, 3, 4, 5, 6, 7]\n",
    "sqrt = [x ** 2 for x in list1]\n",
    "print(sqrt)"
   ]
  },
  {
   "cell_type": "code",
   "execution_count": 26,
   "id": "0aba8d6b",
   "metadata": {},
   "outputs": [
    {
     "data": {
      "text/plain": [
       "['Hello Dear', 'Hello Sir', 'take Dear', 'take Sir']"
      ]
     },
     "execution_count": 26,
     "metadata": {},
     "output_type": "execute_result"
    }
   ],
   "source": [
    "#4.\n",
    "list1 = [\"Hello \", \"take \"]\n",
    "list2 = [\"Dear\", \"Sir\"]\n",
    "[x + y for x in list1 for y in list2]"
   ]
  },
  {
   "cell_type": "code",
   "execution_count": 54,
   "id": "e12a5ba1",
   "metadata": {},
   "outputs": [
    {
     "name": "stdout",
     "output_type": "stream",
     "text": [
      "10 400\n",
      "20 300\n",
      "30 200\n",
      "40 100\n"
     ]
    }
   ],
   "source": [
    "#5: Given two Python lists. Iterate both lists simultaneously such that list1 should display \n",
    "#item in original order and list2 in reverse order\n",
    "list1 = [10, 20, 30, 40]\n",
    "list2 = [100, 200, 300, 400]\n",
    "list2.reverse()\n",
    "for x, y in zip(list1, list2):\n",
    "    print(x, y)   "
   ]
  },
  {
   "cell_type": "code",
   "execution_count": 59,
   "id": "63fabf83",
   "metadata": {},
   "outputs": [
    {
     "data": {
      "text/plain": [
       "['Mike', 'Emma', 'Kelly', 'Brad']"
      ]
     },
     "execution_count": 59,
     "metadata": {},
     "output_type": "execute_result"
    }
   ],
   "source": [
    "#6: Remove empty strings from the list of strings\n",
    "list1 = [\"Mike\", \"\", \"Emma\", \"Kelly\", \"\", \"Brad\"]\n",
    "[x for x in list1 if x !=\"\"]\n"
   ]
  },
  {
   "cell_type": "code",
   "execution_count": 65,
   "id": "1c078bfb",
   "metadata": {},
   "outputs": [
    {
     "name": "stdout",
     "output_type": "stream",
     "text": [
      "[10, 20, [300, 400, [5000, 6000, 7000], 500], 30, 40]\n"
     ]
    }
   ],
   "source": [
    "#7: Add item 7000 after 6000 in the following Python List\n",
    "list1 = [10, 20, [300, 400, [5000, 6000], 500], 30, 40]\n",
    "x = list1[2][2]\n",
    "a = x.index(6000)\n",
    "x.insert(a + 1,7000)\n",
    "print(list1)"
   ]
  },
  {
   "cell_type": "code",
   "execution_count": 70,
   "id": "ea81a60d",
   "metadata": {},
   "outputs": [
    {
     "name": "stdout",
     "output_type": "stream",
     "text": [
      "['a', 'b', ['c', ['d', 'e', ['f', 'g', 'h', 'i', 'j'], 'k'], 'l'], 'm', 'n']\n"
     ]
    }
   ],
   "source": [
    "#8: Given a nested list extend it with adding sub list [\"h\", \"i\", \"j\"] \n",
    "#in a such a way that it will look like the following list\n",
    "#Given List:\n",
    "list1 = [\"a\", \"b\", [\"c\", [\"d\", \"e\", [\"f\", \"g\"], \"k\"], \"l\"], \"m\", \"n\"]\n",
    "sublist = [\"h\", \"i\", \"j\"]\n",
    "a = list1[2][1][2]\n",
    "a.extend(sublist)\n",
    "print(list1)\n"
   ]
  },
  {
   "cell_type": "code",
   "execution_count": 73,
   "id": "83687e5f",
   "metadata": {},
   "outputs": [
    {
     "name": "stdout",
     "output_type": "stream",
     "text": [
      "[5, 10, 15, 200, 25, 50, 20]\n"
     ]
    }
   ],
   "source": [
    "#9: Given a Python list, find value 20 in the list, and if it is present, replace it with 200. \n",
    "#Only update the first occurrence of a value\n",
    "list1 = [5, 10, 15, 20, 25, 50, 20]\n",
    "a = 20 \n",
    "b = 200\n",
    "\n",
    "\n",
    "c = None\n",
    "for i, value in enumerate(list1):\n",
    "    if value == a:\n",
    "        c = i\n",
    "        break\n",
    "        \n",
    "        \n",
    "if c is not None:\n",
    "    list1[c] = b\n",
    "    \n",
    "print(list1)"
   ]
  },
  {
   "cell_type": "code",
   "execution_count": 75,
   "id": "39dd1cc4",
   "metadata": {},
   "outputs": [
    {
     "data": {
      "text/plain": [
       "[5, 15, 25, 50]"
      ]
     },
     "execution_count": 75,
     "metadata": {},
     "output_type": "execute_result"
    }
   ],
   "source": [
    "#10: Given a Python list, remove all occurrence of 20 from the list\n",
    "list1 = [5, 20, 15, 20, 25, 50, 20]\n",
    "a = 20 \n",
    "[x for x in list1 if x != a]\n"
   ]
  },
  {
   "cell_type": "code",
   "execution_count": null,
   "id": "bcd6bc77",
   "metadata": {},
   "outputs": [],
   "source": []
  },
  {
   "cell_type": "code",
   "execution_count": null,
   "id": "2eaa92c0",
   "metadata": {},
   "outputs": [],
   "source": []
  }
 ],
 "metadata": {
  "kernelspec": {
   "display_name": "Python 3 (ipykernel)",
   "language": "python",
   "name": "python3"
  },
  "language_info": {
   "codemirror_mode": {
    "name": "ipython",
    "version": 3
   },
   "file_extension": ".py",
   "mimetype": "text/x-python",
   "name": "python",
   "nbconvert_exporter": "python",
   "pygments_lexer": "ipython3",
   "version": "3.11.4"
  }
 },
 "nbformat": 4,
 "nbformat_minor": 5
}
